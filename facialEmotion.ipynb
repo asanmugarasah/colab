{
 "cells": [
  {
   "cell_type": "code",
   "execution_count": null,
   "metadata": {
    "id": "UlUbCXtxZ2I9"
   },
   "outputs": [
    {
     "ename": "",
     "evalue": "",
     "output_type": "error",
     "traceback": [
      "\u001b[1;31mRunning cells with 'Python 3.12.3' requires the ipykernel package.\n",
      "\u001b[1;31mRun the following command to install 'ipykernel' into the Python environment. \n",
      "\u001b[1;31mCommand: '/bin/python3 -m pip install ipykernel -U --user --force-reinstall'"
     ]
    }
   ],
   "source": [
    "import os\n",
    "import cv2\n",
    "import numpy as np\n",
    "import matplotlib.pyplot as plt\n",
    "import seaborn as sns\n",
    "from sklearn.model_selection import train_test_split\n",
    "from sklearn.svm import SVC\n",
    "from sklearn.tree import DecisionTreeClassifier\n",
    "from sklearn.neighbors import KNeighborsClassifier\n",
    "from sklearn.naive_bayes import GaussianNB\n",
    "from sklearn.metrics import classification_report, confusion_matrix\n",
    "from skimage.feature import hog"
   ]
  },
  {
   "cell_type": "code",
   "execution_count": null,
   "metadata": {
    "id": "w9XEbSssaRxV"
   },
   "outputs": [],
   "source": [
    "# Paths to datasets\n",
    "jaffe_path = \"drive/MyDrive/jaffedbase\"  # JAFFE dataset path\n",
    "ckplus_path = \"drive/MyDrive/CK+\"        # CK+ dataset path"
   ]
  },
  {
   "cell_type": "code",
   "execution_count": null,
   "metadata": {
    "id": "zoEF0A2xaYmM"
   },
   "outputs": [],
   "source": [
    "# Emotion mappings\n",
    "jaffe_emotion_map = {\n",
    "    \"AN\": 0, \"DI\": 1, \"FE\": 2, \"HA\": 3, \"NE\": 4, \"SA\": 5, \"SU\": 6\n",
    "}\n",
    "ckplus_emotion_map = {\n",
    "    \"anger\": 0, \"disgust\": 1, \"fear\": 2, \"happy\": 3, \"sadness\": 5, \"surprise\": 6\n",
    "}"
   ]
  },
  {
   "cell_type": "code",
   "execution_count": null,
   "metadata": {
    "id": "cN9bqF-5ahYc"
   },
   "outputs": [],
   "source": [
    "# Load JAFFE dataset\n",
    "def load_jaffe_dataset(dataset_path, emotion_map, target_size=(128, 128)):\n",
    "    images, labels = [], []\n",
    "    for img_file in os.listdir(dataset_path):\n",
    "        img_path = os.path.join(dataset_path, img_file)\n",
    "        if os.path.isfile(img_path) and img_file.endswith('.tiff'):\n",
    "            emotion_code = img_file.split('.')[1][:2]\n",
    "            if emotion_code in emotion_map:\n",
    "                label = emotion_map[emotion_code]\n",
    "                img = cv2.imread(img_path, cv2.IMREAD_GRAYSCALE)\n",
    "                if img is not None:\n",
    "                    img_resized = cv2.resize(img, target_size)\n",
    "                    images.append(img_resized / 255.0)  # Normalize\n",
    "                    labels.append(label)\n",
    "    return np.array(images), np.array(labels)"
   ]
  },
  {
   "cell_type": "code",
   "execution_count": null,
   "metadata": {
    "id": "JTzoKOXEaqhA"
   },
   "outputs": [],
   "source": [
    "# Load CK+ dataset\n",
    "def load_ckplus_dataset(dataset_path, emotion_map, target_size=(128, 128)):\n",
    "    images, labels = [], []\n",
    "    for emotion, label in emotion_map.items():\n",
    "        emotion_folder = os.path.join(dataset_path, emotion)\n",
    "        if os.path.exists(emotion_folder):\n",
    "            for img_file in os.listdir(emotion_folder):\n",
    "                img_path = os.path.join(emotion_folder, img_file)\n",
    "                if img_file.endswith(('.png', '.jpg', '.jpeg', '.tiff')):\n",
    "                    img = cv2.imread(img_path, cv2.IMREAD_GRAYSCALE)\n",
    "                    if img is not None:\n",
    "                        img_resized = cv2.resize(img, target_size)\n",
    "                        images.append(img_resized / 255.0)  # Normalize\n",
    "                        labels.append(label)\n",
    "    return np.array(images), np.array(labels)"
   ]
  },
  {
   "cell_type": "code",
   "execution_count": null,
   "metadata": {
    "id": "xfU6Erf6aypw"
   },
   "outputs": [],
   "source": [
    "# Load datasets\n",
    "jaffe_images, jaffe_labels = load_jaffe_dataset(jaffe_path, jaffe_emotion_map)\n",
    "ckplus_images, ckplus_labels = load_ckplus_dataset(ckplus_path, ckplus_emotion_map)"
   ]
  },
  {
   "cell_type": "code",
   "execution_count": null,
   "metadata": {
    "id": "mvihyVntpGPM"
   },
   "outputs": [],
   "source": [
    "# Combine datasets\n",
    "combined_images = np.concatenate([jaffe_images, ckplus_images])\n",
    "combined_labels = np.concatenate([jaffe_labels, ckplus_labels])"
   ]
  },
  {
   "cell_type": "code",
   "execution_count": null,
   "metadata": {
    "id": "AQy2g8flpLPg"
   },
   "outputs": [],
   "source": [
    "# Flatten images for feature extraction\n",
    "flat_images = combined_images.reshape(combined_images.shape[0], -1)"
   ]
  },
  {
   "cell_type": "code",
   "execution_count": null,
   "metadata": {
    "id": "0Wv4wQpMpPGP"
   },
   "outputs": [],
   "source": [
    "# Train-test split\n",
    "X_train, X_temp, y_train, y_temp = train_test_split(flat_images, combined_labels, test_size=0.3, stratify=combined_labels, random_state=42)\n",
    "X_val, X_test, y_val, y_test = train_test_split(X_temp, y_temp, test_size=0.5, stratify=y_temp, random_state=42)"
   ]
  },
  {
   "cell_type": "code",
   "execution_count": null,
   "metadata": {
    "id": "CHe8QtpipUvA"
   },
   "outputs": [],
   "source": [
    "# Feature extraction using HOG\n",
    "def extract_hog_features(images):\n",
    "    hog_features = []\n",
    "    for img in images:\n",
    "        features = hog(img.reshape(128, 128), pixels_per_cell=(8, 8), cells_per_block=(2, 2), orientations=9, block_norm='L2-Hys')\n",
    "        hog_features.append(features)\n",
    "    return np.array(hog_features)\n",
    "\n",
    "X_train_hog = extract_hog_features(X_train)\n",
    "X_val_hog = extract_hog_features(X_val)\n",
    "X_test_hog = extract_hog_features(X_test)"
   ]
  },
  {
   "cell_type": "code",
   "execution_count": null,
   "metadata": {
    "id": "yAcWq_zJpija"
   },
   "outputs": [],
   "source": [
    "# Models\n",
    "models = {\n",
    "    \"SVM\": SVC(kernel='linear', C=1.0, random_state=42),\n",
    "    \"KNN\": KNeighborsClassifier(n_neighbors=5),\n",
    "    \"Decision Tree\": DecisionTreeClassifier(random_state=42),\n",
    "    \"Naive Bayes\": GaussianNB()\n",
    "}"
   ]
  },
  {
   "cell_type": "code",
   "execution_count": null,
   "metadata": {
    "colab": {
     "base_uri": "https://localhost:8080/",
     "height": 1000
    },
    "id": "7FY9G43epl0f",
    "outputId": "3d3fb079-467b-406c-b163-a5e5be28668b"
   },
   "outputs": [],
   "source": [
    "# Train and evaluate models\n",
    "def train_and_evaluate_model(model, model_name, X_train, y_train, X_val, y_val):\n",
    "    print(f\"\\nTraining {model_name}...\")\n",
    "    model.fit(X_train, y_train)\n",
    "    y_val_pred = model.predict(X_val)\n",
    "\n",
    "    # Validation metrics\n",
    "    print(f\"\\nValidation Classification Report for {model_name}:\")\n",
    "    print(classification_report(y_val, y_val_pred))\n",
    "\n",
    "    # Confusion matrix\n",
    "    conf_matrix = confusion_matrix(y_val, y_val_pred)\n",
    "    plt.figure(figsize=(8, 6))\n",
    "    sns.heatmap(conf_matrix, annot=True, fmt='d', cmap='Blues',\n",
    "                xticklabels=jaffe_emotion_map.keys(), yticklabels=jaffe_emotion_map.keys())\n",
    "    plt.title(f\"Confusion Matrix - {model_name}\")\n",
    "    plt.xlabel(\"Predicted\")\n",
    "    plt.ylabel(\"True\")\n",
    "    plt.show()\n",
    "\n",
    "    return model\n",
    "\n",
    "trained_models = {}\n",
    "for model_name, model in models.items():\n",
    "    trained_models[model_name] = train_and_evaluate_model(\n",
    "        model, model_name, X_train_hog, y_train, X_val_hog, y_val\n",
    "    )"
   ]
  },
  {
   "cell_type": "code",
   "execution_count": null,
   "metadata": {
    "id": "3G8tjN_3YIav"
   },
   "outputs": [],
   "source": [
    "# Test models\n",
    "def test_model(model, model_name, X_test_hog, y_test, X_test_original):\n",
    "    print(f\"\\nTesting {model_name}...\")\n",
    "    # Predict on test data\n",
    "    y_test_pred = model.predict(X_test_hog)\n",
    "\n",
    "    # Visualization: Show 3 test images in a row with predictions\n",
    "    example_indices = [0, 1, 2]  # Indices of example images to visualize\n",
    "    fig, axes = plt.subplots(1, len(example_indices), figsize=(12, 4))  # 1 row, 3 columns\n",
    "    fig.suptitle(f\"{model_name} Predictions\", fontsize=16)\n",
    "\n",
    "    for ax, idx in zip(axes, example_indices):\n",
    "        ax.imshow(X_test_original[idx].reshape(128, 128), cmap='gray')\n",
    "        ax.set_title(f\"True: {y_test[idx]}\\nPred: {y_test_pred[idx]}\")\n",
    "        ax.axis('off')\n",
    "\n",
    "    plt.tight_layout()\n",
    "    plt.show()"
   ]
  },
  {
   "cell_type": "code",
   "execution_count": null,
   "metadata": {
    "colab": {
     "base_uri": "https://localhost:8080/",
     "height": 1000
    },
    "id": "Hqbf1o1GYP4C",
    "outputId": "4f015335-82a8-424f-bbfe-e4dbe1aaaac3"
   },
   "outputs": [],
   "source": [
    "# Test each trained model\n",
    "for model_name, model in trained_models.items():\n",
    "    test_model(model, model_name, X_test_hog, y_test, X_test)"
   ]
  }
 ],
 "metadata": {
  "colab": {
   "provenance": []
  },
  "kernelspec": {
   "display_name": "Python 3",
   "name": "python3"
  },
  "language_info": {
   "name": "python",
   "version": "3.12.3"
  }
 },
 "nbformat": 4,
 "nbformat_minor": 0
}
